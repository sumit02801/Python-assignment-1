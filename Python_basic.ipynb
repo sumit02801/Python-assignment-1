{
  "nbformat": 4,
  "nbformat_minor": 0,
  "metadata": {
    "colab": {
      "provenance": []
    },
    "kernelspec": {
      "name": "python3",
      "display_name": "Python 3"
    },
    "language_info": {
      "name": "python"
    }
  },
  "cells": [
    {
      "cell_type": "code",
      "execution_count": null,
      "metadata": {
        "id": "AzxIeZ1KWFB4"
      },
      "outputs": [],
      "source": []
    },
    {
      "cell_type": "markdown",
      "source": [
        "#Python basic questions\n"
      ],
      "metadata": {
        "id": "vJLokdEUWKI_"
      }
    },
    {
      "cell_type": "markdown",
      "source": [],
      "metadata": {
        "id": "pEjALZHWWP7U"
      }
    },
    {
      "cell_type": "markdown",
      "source": [
        "1. What is Python, and why is it popular?\n",
        "   - Python is a high-level, interpreted programming language known for its simplicity and readability. It is used in various fields, such as web development, data analysis, machine learning, automation, and more. Its popularity is due to its easy-to-understand syntax, vast library support, and large community of developers, making it an ideal choice for beginners and experienced developers alike.\n",
        "\n",
        "2. What is an interpreter in Python?\n",
        "   - An interpreter in Python is a program that reads and executes the code line by line.\n",
        "\n",
        "3. What are pre-defined keywords in Python?\n",
        "   - Pre-defined keywords in Python are reserved words that have special meanings and cannot be used as variable names. like - if, else, etc.\n",
        "\n",
        "4. Can keywords be used as variable names?\n",
        "   - No, keywords in Python cannot be used as variable names. Since keywords have special meanings in the language, they are reserved for specific functionality.\n",
        "\n",
        "5. What is mutability in Python?\n",
        "   - Mutability in Python refers to the ability of an object to be modified after it is created. example - list, set.\n",
        "\n",
        "6. Why are lists mutable, but tuples are immutable?\n",
        "   - Lists are mutable because they are designed to allow changes to their elements (such as adding, removing, or modifying items).\n",
        "   - Tuples, however, are immutable because their purpose is to represent fixed collections of items.\n",
        "\n",
        "7. What is the difference between “==” and “is” operators in Python?\n",
        "   - == checks for equality, meaning it compares the values of two objects to see if they are the same.\n",
        "   - is checks for identity, meaning it compares the memory addresses.\n",
        "\n",
        "8. What are logical operators in Python?\n",
        "   - Logical operators in Python are used to perform logical operations on boolean values. These are and, or, not.\n",
        "\n",
        "9. What is type casting in Python?\n",
        "   - Type casting is the process of converting one data type into another.\n",
        "   for example - a = 5 - it is integer, float(a) - convert to float - 5.0\n",
        "   to check the type - type(a), type(b)\n",
        "\n",
        "10. What is the difference between implicit and explicit type casting?\n",
        "   - Implicit type casting happens when Python automatically converts one data type to another without any explicit instruction. example - addation of int and float will be float. 5+0.5 = 5.5\n",
        "   - Explicit type casting requires the programmer to manually convert one data type to another using functions like int(), float(), or str().\n",
        "\n",
        "11. What is the purpose of conditional statements in Python?\n",
        "   - Conditional statements in Python allow the execution of specific blocks of code based on certain conditions. These statements, such as if, elif, and else.\n",
        "\n",
        "12. How does the elif statement work?\n",
        "   - The elif statement in Python is used to check multiple conditions. If the condition in the if statement is False, Python evaluates the elif condition. If the elif condition is True, its block of code will execute. If all if and elif conditions fail, the else block (if present) will execute.\n",
        "\n",
        "13. What is the difference between for and while loops?\n",
        "   - A for loop is typically used when you know the number of iterations in advance or when you are iterating over a collection (e.g., list, tuple, dictionary).\n",
        "   - A while loop continues executing as long as the specified condition is True.\n",
        "\n",
        "14. Describe a scenario where a while loop is more suitable than a for loop?\n",
        "   - A while loop is more suitable when you don't know the exact number of iterations in advance and need to continue looping until a specific condition is met. For example, in a game, a while loop could be used to keep playing until the player chooses to quit."
      ],
      "metadata": {
        "id": "cqkFWCswXbNP"
      }
    },
    {
      "cell_type": "markdown",
      "source": [],
      "metadata": {
        "id": "133YzPwCb04a"
      }
    },
    {
      "cell_type": "markdown",
      "source": [
        "# Practical Questions"
      ],
      "metadata": {
        "id": "NJfkf_T-b3Dg"
      }
    },
    {
      "cell_type": "code",
      "source": [
        "#  Write a Python program to print \"Hello, World!\n",
        "\n",
        "print(\"Hello, World!\")"
      ],
      "metadata": {
        "colab": {
          "base_uri": "https://localhost:8080/"
        },
        "id": "jIghPyF2b8yZ",
        "outputId": "1b8d6f58-e1b5-4509-c6da-3a0af57726a9"
      },
      "execution_count": 1,
      "outputs": [
        {
          "output_type": "stream",
          "name": "stdout",
          "text": [
            "Hello, World!\n"
          ]
        }
      ]
    },
    {
      "cell_type": "code",
      "source": [
        "# Write a Python program that displays your name and age.\n",
        "\n",
        "name = \"sumit\"\n",
        "age = 24\n",
        "\n",
        "print(f\"my name is {name} and age is {age}\")"
      ],
      "metadata": {
        "colab": {
          "base_uri": "https://localhost:8080/"
        },
        "id": "uX2JCYCQcKRG",
        "outputId": "4ec818c1-b0a8-4cb6-bd20-04d79b18cd5f"
      },
      "execution_count": 2,
      "outputs": [
        {
          "output_type": "stream",
          "name": "stdout",
          "text": [
            "my name is sumit and age is 24\n"
          ]
        }
      ]
    },
    {
      "cell_type": "code",
      "source": [
        "# Write code to print all the pre-defined keywords in Python using the keyword library.\n",
        "\n",
        "import keyword\n",
        "\n",
        "print(\"python keywords:\")\n",
        "print(keyword.kwlist)"
      ],
      "metadata": {
        "colab": {
          "base_uri": "https://localhost:8080/"
        },
        "id": "rqghybxfcgK3",
        "outputId": "90b5d905-8743-442a-c305-8f9ad199fc09"
      },
      "execution_count": 3,
      "outputs": [
        {
          "output_type": "stream",
          "name": "stdout",
          "text": [
            "python keywords:\n",
            "['False', 'None', 'True', 'and', 'as', 'assert', 'async', 'await', 'break', 'class', 'continue', 'def', 'del', 'elif', 'else', 'except', 'finally', 'for', 'from', 'global', 'if', 'import', 'in', 'is', 'lambda', 'nonlocal', 'not', 'or', 'pass', 'raise', 'return', 'try', 'while', 'with', 'yield']\n"
          ]
        }
      ]
    },
    {
      "cell_type": "code",
      "source": [
        "# Write a program that checks if a given word is a Python keyword\n",
        "\n",
        "a = \"if\"\n",
        "\n",
        "print(keyword.iskeyword(a))"
      ],
      "metadata": {
        "colab": {
          "base_uri": "https://localhost:8080/"
        },
        "id": "4kf1ZZqic-U0",
        "outputId": "3dad144f-b5eb-4830-bfd9-2d95631dfdd5"
      },
      "execution_count": 7,
      "outputs": [
        {
          "output_type": "stream",
          "name": "stdout",
          "text": [
            "True\n"
          ]
        }
      ]
    },
    {
      "cell_type": "code",
      "source": [
        "# Create a list and tuple in Python, and demonstrate how attempting to change an element works differently for each\n",
        "#List\n",
        "l = [5,5.0, True, \"sumit\"]\n",
        "print(type(l))\n",
        "print(l)\n",
        "l[0] = 3\n",
        "print(l)\n",
        "\n",
        "#tuple\n",
        "t = (5,5.0, True, \"sumit\")\n",
        "print(type(t))\n",
        "print(t)\n",
        "#t[0] = 3 # conversion as asked in question\n",
        "print(t)"
      ],
      "metadata": {
        "colab": {
          "base_uri": "https://localhost:8080/"
        },
        "id": "KLt3jwsLdUjN",
        "outputId": "23c9ca42-8544-47d1-fbca-174a3506796e"
      },
      "execution_count": 11,
      "outputs": [
        {
          "output_type": "stream",
          "name": "stdout",
          "text": [
            "<class 'list'>\n",
            "[5, 5.0, True, 'sumit']\n",
            "[3, 5.0, True, 'sumit']\n",
            "<class 'tuple'>\n",
            "(5, 5.0, True, 'sumit')\n",
            "(5, 5.0, True, 'sumit')\n"
          ]
        }
      ]
    },
    {
      "cell_type": "code",
      "source": [
        "# Write a function to demonstrate the behavior of mutable and immutable arguments\n",
        "def demonstrate_mutability(immutable_arg, mutable_arg):\n",
        "    print(\"Before modification:\")\n",
        "    print(f\"Immutable argument: {immutable_arg}\")\n",
        "    print(f\"Mutable argument: {mutable_arg}\")\n",
        "\n",
        "    mutable_arg.append(100)\n",
        "    immutable_arg += 10\n",
        "\n",
        "    print(\"\\nAfter modification:\")\n",
        "    print(f\"Immutable argument: {immutable_arg}\")  # Integer reassigned\n",
        "    print(f\"Mutable argument: {mutable_arg}\")  # List modified\n",
        "\n",
        "num = 5  # Immutable argument (Integer)\n",
        "lst = [1, 2, 3]  # Mutable argument (List)\n",
        "\n",
        "demonstrate_mutability(num, lst)"
      ],
      "metadata": {
        "colab": {
          "base_uri": "https://localhost:8080/"
        },
        "id": "RY8bAd2yd9Bs",
        "outputId": "19717e28-ea1e-4ec1-d965-d605ca0c8171"
      },
      "execution_count": 12,
      "outputs": [
        {
          "output_type": "stream",
          "name": "stdout",
          "text": [
            "Before modification:\n",
            "Immutable argument: 5\n",
            "Mutable argument: [1, 2, 3]\n",
            "\n",
            "After modification:\n",
            "Immutable argument: 15\n",
            "Mutable argument: [1, 2, 3, 100]\n"
          ]
        }
      ]
    },
    {
      "cell_type": "code",
      "source": [
        "# Write a program to demonstrate the use of logical operators\n",
        "\n",
        "a = \"sumit\"\n",
        "\n",
        "b = \"q\" not in a\n",
        "print(b)"
      ],
      "metadata": {
        "colab": {
          "base_uri": "https://localhost:8080/"
        },
        "id": "i0vLLeOIfjZr",
        "outputId": "f6e46e53-41de-411b-dd08-b98ab6b545e3"
      },
      "execution_count": 13,
      "outputs": [
        {
          "output_type": "stream",
          "name": "stdout",
          "text": [
            "True\n"
          ]
        }
      ]
    },
    {
      "cell_type": "code",
      "source": [
        "# Write a Python program to convert user input from string to integer, float, and boolean types\n",
        "\n",
        "a = (input(\"Enter a number: \"))\n",
        "print(type(a))\n",
        "print(int(a))\n",
        "print(float(a))\n",
        "print(bool(a))"
      ],
      "metadata": {
        "colab": {
          "base_uri": "https://localhost:8080/"
        },
        "id": "WgPynrM9f58B",
        "outputId": "6a56c5ba-ce66-4ca7-aaa6-dfe0b138f3a4"
      },
      "execution_count": 19,
      "outputs": [
        {
          "output_type": "stream",
          "name": "stdout",
          "text": [
            "Enter a number: -1\n",
            "<class 'str'>\n",
            "-1\n",
            "-1.0\n",
            "True\n"
          ]
        }
      ]
    },
    {
      "cell_type": "code",
      "source": [
        "# Write code to demonstrate type casting with list elements\n",
        "\n",
        "my_list = [1, '2', 3.0, True]\n",
        "\n",
        "# Type casting list elements\n",
        "new_list = []\n",
        "for element in my_list:\n",
        "  if type(element) == str:\n",
        "    new_list.append(int(element))  # Convert string to integer\n",
        "  elif type(element) == float:\n",
        "    new_list.append(int(element))  # Convert float to integer\n",
        "  elif type(element) == bool:\n",
        "    new_list.append(int(element))  # Convert boolean to integer\n",
        "  else:\n",
        "    new_list.append(element)\n",
        "\n",
        "print(\"Original list:\", my_list)\n",
        "print(\"List after type casting:\", new_list)\n",
        "\n",
        "\n"
      ],
      "metadata": {
        "colab": {
          "base_uri": "https://localhost:8080/"
        },
        "id": "ikxNqp7CguAO",
        "outputId": "5f099ebe-a3a7-4d7f-c386-a8a60d261464"
      },
      "execution_count": 22,
      "outputs": [
        {
          "output_type": "stream",
          "name": "stdout",
          "text": [
            "Original list: [1, '2', 3.0, True]\n",
            "List after type casting: [1, 2, 3, 1]\n"
          ]
        }
      ]
    },
    {
      "cell_type": "code",
      "source": [
        "# Write a program that checks if a number is positive, negative, or zero\n",
        "\n",
        "a = (input(\"enter a number: \"))\n",
        "b = int(a)\n",
        "if b < 0:\n",
        "  print(\"negative\")\n",
        "elif b == 0:\n",
        "  print(\"Zero\")\n",
        "else:\n",
        "    print(\"positive\")\n"
      ],
      "metadata": {
        "colab": {
          "base_uri": "https://localhost:8080/"
        },
        "id": "JThKOSu6jSiC",
        "outputId": "284cc1b8-20b3-4d28-8db5-a962fc11ffb2"
      },
      "execution_count": 28,
      "outputs": [
        {
          "output_type": "stream",
          "name": "stdout",
          "text": [
            "enter a number: 34\n",
            "positive\n"
          ]
        }
      ]
    },
    {
      "cell_type": "code",
      "source": [
        "# Write a for loop to print numbers from 1 to 10\n",
        "\n",
        "for a in range (1, 11):\n",
        "  print(a, end=\" \")"
      ],
      "metadata": {
        "colab": {
          "base_uri": "https://localhost:8080/"
        },
        "id": "plmO769KkqQI",
        "outputId": "5506db66-cb2d-435c-ab91-2532edfac1bd"
      },
      "execution_count": 30,
      "outputs": [
        {
          "output_type": "stream",
          "name": "stdout",
          "text": [
            "1 2 3 4 5 6 7 8 9 10 "
          ]
        }
      ]
    },
    {
      "cell_type": "code",
      "source": [
        "# Write a Python program to find the sum of all even numbers between 1 and 50\n",
        "sum = 0\n",
        "for i in range (1, 51):\n",
        "  if i % 2 == 0:\n",
        "    print(i, end=\" \")\n",
        "    sum = sum + i\n",
        "print(f\"\\nsum is {sum}\")"
      ],
      "metadata": {
        "colab": {
          "base_uri": "https://localhost:8080/"
        },
        "id": "M0KMEZSWlVvj",
        "outputId": "7f5e26a2-b752-4201-e8aa-63ea01c30206"
      },
      "execution_count": 35,
      "outputs": [
        {
          "output_type": "stream",
          "name": "stdout",
          "text": [
            "2 4 6 8 10 12 14 16 18 20 22 24 26 28 30 32 34 36 38 40 42 44 46 48 50 \n",
            "sum is 650\n"
          ]
        }
      ]
    },
    {
      "cell_type": "code",
      "source": [
        "#  Write a program to reverse a string using a while loop\n",
        "\n",
        "string = \"Hello, World!\"\n",
        "\n",
        "reversed_string = \"\"\n",
        "i = len(string) - 1\n",
        "\n",
        "while i >= 0:\n",
        "    reversed_string += string[i]\n",
        "    i -= 1\n",
        "print(\"Reversed String:\", reversed_string)"
      ],
      "metadata": {
        "colab": {
          "base_uri": "https://localhost:8080/"
        },
        "id": "BGNTRHrpmC4n",
        "outputId": "3596e8bb-0e5d-44b6-a93a-90a91578a7e3"
      },
      "execution_count": 36,
      "outputs": [
        {
          "output_type": "stream",
          "name": "stdout",
          "text": [
            "Reversed String: !dlroW ,olleH\n"
          ]
        }
      ]
    },
    {
      "cell_type": "code",
      "source": [
        "# Write a Python program to calculate the factorial of a number provided by the user using a while loop\n",
        "def factorial(n):\n",
        "  if n < 0:\n",
        "    return\n",
        "  elif n == 0:\n",
        "    return 1\n",
        "  else:\n",
        "    fact = 1\n",
        "    while n > 1:\n",
        "      fact *= n\n",
        "      n -= 1\n",
        "    return fact\n",
        "\n",
        "\n",
        "num = int(input(\"Enter a non-negative integer: \"))\n",
        "result = factorial(num)\n",
        "print(f\"The factorial of {num} is {result}\")"
      ],
      "metadata": {
        "colab": {
          "base_uri": "https://localhost:8080/"
        },
        "id": "hqMWsOj0nA9Y",
        "outputId": "256b2ff3-301e-4be7-cab3-97a8765fa4e4"
      },
      "execution_count": 37,
      "outputs": [
        {
          "output_type": "stream",
          "name": "stdout",
          "text": [
            "Enter a non-negative integer: 0\n",
            "The factorial of 0 is 1\n"
          ]
        }
      ]
    },
    {
      "cell_type": "code",
      "source": [
        "# prompt: Write a Python program to calculate the factorial of a number provided by the user using a while loop\n",
        "\n",
        "def factorial(n):\n",
        "  \"\"\"Calculates the factorial of a non-negative integer.\n",
        "\n",
        "  Args:\n",
        "    n: The non-negative integer.\n",
        "\n",
        "  Returns:\n",
        "    The factorial of n.\n",
        "  \"\"\"\n",
        "  if n < 0:\n",
        "    return \"Factorial is not defined for negative numbers\"\n",
        "  elif n == 0:\n",
        "    return 1\n",
        "  else:\n",
        "    fact = 1\n",
        "    while n > 1:\n",
        "      fact *= n\n",
        "      n -= 1\n",
        "    return fact\n",
        "\n",
        "\n",
        "num = int(input(\"Enter a non-negative integer: \"))\n",
        "result = factorial(num)\n",
        "print(f\"The factorial of {num} is {result}\")\n"
      ],
      "metadata": {
        "colab": {
          "base_uri": "https://localhost:8080/"
        },
        "id": "qYawPqkxnMwg",
        "outputId": "a8a402d9-0c87-417b-ad78-cb0c3574d1a1"
      },
      "execution_count": 38,
      "outputs": [
        {
          "output_type": "stream",
          "name": "stdout",
          "text": [
            "Enter a non-negative integer: 4\n",
            "The factorial of 4 is 24\n"
          ]
        }
      ]
    },
    {
      "cell_type": "code",
      "source": [],
      "metadata": {
        "id": "UGUUurbfoJ_z"
      },
      "execution_count": null,
      "outputs": []
    }
  ]
}